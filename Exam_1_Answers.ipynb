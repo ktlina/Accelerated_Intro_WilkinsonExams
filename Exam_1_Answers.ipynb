{
 "cells": [
  {
   "cell_type": "markdown",
   "metadata": {},
   "source": [
    "## Week 1 exam"
   ]
  },
  {
   "cell_type": "markdown",
   "metadata": {},
   "source": [
    "### Problem 2\n",
    "\n",
    "For this problem I will use de *ls* command followed by *-lh*. The first aiming to organize the information in a list and the second as human readable size:"
   ]
  },
  {
   "cell_type": "code",
   "execution_count": null,
   "metadata": {},
   "outputs": [],
   "source": [
    "ls -lh"
   ]
  },
  {
   "cell_type": "markdown",
   "metadata": {},
   "source": [
    "The file admits reading and writing for users and groups (-rw) and only reading for all."
   ]
  },
  {
   "cell_type": "markdown",
   "metadata": {},
   "source": [
    "### Problem 3"
   ]
  },
  {
   "cell_type": "markdown",
   "metadata": {},
   "source": [
    "In order to read the first line (header) of the file I will use the *head* command followed by -1 in order to read the **first** line."
   ]
  },
  {
   "cell_type": "code",
   "execution_count": null,
   "metadata": {},
   "outputs": [],
   "source": [
    "echo \"First line of the file:\"\n",
    "head -1 Locus_Germplasm_Phenotype_20130122.txt"
   ]
  },
  {
   "cell_type": "markdown",
   "metadata": {},
   "source": [
    "### Problem 4"
   ]
  },
  {
   "cell_type": "markdown",
   "metadata": {},
   "source": [
    "To count the total number of lines including the header I will execute the *wc -l* command that stands for word count and lines, so it should count the number of lines in the file. I could also use the *cat* command and a pipe into the *wc -l* command in order to get only the number as my output."
   ]
  },
  {
   "cell_type": "code",
   "execution_count": null,
   "metadata": {},
   "outputs": [],
   "source": [
    "wc -l Locus_Germplasm_Phenotype_20130122.txt\n",
    "cat Locus_Germplasm_Phenotype_20130122.txt | wc -l"
   ]
  },
  {
   "cell_type": "markdown",
   "metadata": {},
   "source": [
    "### Problem 5"
   ]
  },
  {
   "cell_type": "markdown",
   "metadata": {},
   "source": [
    "First I need to create the new file Data_Only.csv and to do so I use the *touch* command. First I have a look at the aspect of the current directory to make sure I create the document in the right place. Then I create the file and list the directory this time by time to make sure that the Data_Only.csv file is the last one I created.\n",
    "\n",
    "Then I will *cat* the whole content of the file and use it as the input for the next command that will be the *tail* command taking all the lines except the first one starting from the end and piping it into the newly created Data_Only.csv file. I then *cat* the new file to make sure I correctly copied the info excluding the header.\n",
    "\n",
    "To prove that I have the expected number of lines I will again *wc -l* the new file, and it indeed has one line less than the previous word count."
   ]
  },
  {
   "cell_type": "code",
   "execution_count": null,
   "metadata": {},
   "outputs": [],
   "source": [
    "#ls -l\n",
    "#touch Data_Only.csv\n",
    "#ls -lt\n",
    "#cat Locus_Germplasm_Phenotype_20130122.txt | tail -7215 > Data_Only.csv\n",
    "#cat Data_Only.csv\n",
    "wc -l Data_Only.csv"
   ]
  },
  {
   "cell_type": "markdown",
   "metadata": {},
   "source": [
    "### Problem 6"
   ]
  },
  {
   "cell_type": "markdown",
   "metadata": {},
   "source": [
    "To show all of the lines containing the word root (case sensitive) I will use the *grep* command which is case sensitive and I will also ask for the line number using *-n*."
   ]
  },
  {
   "cell_type": "code",
   "execution_count": null,
   "metadata": {},
   "outputs": [],
   "source": [
    "grep -n \"root\" Locus_Germplasm_Phenotype_20130122.txt"
   ]
  },
  {
   "cell_type": "markdown",
   "metadata": {},
   "source": [
    "### Problem 7"
   ]
  },
  {
   "cell_type": "markdown",
   "metadata": {},
   "source": [
    "First I will create the new file Root-associated-Loci.txt using the *touch* command, agains first listing the directory to ensure I am creating the file in the correct place.\n",
    "\n",
    "I will use the previous *grep* command and pipe the output into another *grep* command that specifically looks for the AGI Locus Code and then combine both with an output redirect into the previously created file. \n",
    "\n",
    "To look for the AGI Locus Code I will follow the information given about its appearence at the beggining of the exam page. Therefore the command grep will be case insensitive. As my grep command will use an extended regular expression *+* I need to include *-E* after the *grep* command. I will also include the *^* regular expression as I know that the AGI Locus Code is at the beginning of the line. I will also include *-a* on the first grep to make sure it hadles binary files as text (no output if I don't include this). To only print the mach into the new file I included *-o* as part of the second grep."
   ]
  },
  {
   "cell_type": "code",
   "execution_count": null,
   "metadata": {},
   "outputs": [],
   "source": [
    "#ls -l\n",
    "#touch Root-associated-Loci.txt\n",
    "ls -lt\n",
    "grep -E -a \"root\" Locus_Germplasm_Phenotype_20130122.txt | grep -E -io \"^at[1-5]g[0-9]{5}\" > Root-associated-Loci.txt\n",
    "cat Root-associated-Loci.txt"
   ]
  },
  {
   "cell_type": "markdown",
   "metadata": {},
   "source": [
    "### Problem 8"
   ]
  },
  {
   "cell_type": "markdown",
   "metadata": {},
   "source": [
    "Same as above for the first three steps. As for the first grep I will use the same command. The second command looks for numbers from 0-9 one or more times (unpredictable) that must be at the end of every line (represented by the $ sign). I will then redirect the output into the new file."
   ]
  },
  {
   "cell_type": "code",
   "execution_count": null,
   "metadata": {},
   "outputs": [],
   "source": [
    "#ls -l\n",
    "#touch Root-associated-Publications.txt\n",
    "#ls -lt\n",
    "grep -E -a \"root\" Locus_Germplasm_Phenotype_20130122.txt | grep -E -io \"[0-9]+$\" > Root-associated-Publications.txt\n",
    "cat Root-associated-Publications.txt"
   ]
  },
  {
   "cell_type": "markdown",
   "metadata": {},
   "source": [
    "### Problem 9"
   ]
  },
  {
   "cell_type": "markdown",
   "metadata": {},
   "source": [
    "The actual AGI Locus Code gives us information about the chromosome in which each root associated locus resides. Therefore I will use the grep command 5 times (once for every AT chromosome) looking for loci in the previously created file Root-associated-Loci.txt. \n",
    "\n",
    "I found that every chromosome has more than one root associated locus. "
   ]
  },
  {
   "cell_type": "code",
   "execution_count": null,
   "metadata": {},
   "outputs": [],
   "source": [
    "ls -l\n",
    "grep -E -ia \"^at[1]\" Root-associated-Loci.txt\n",
    "grep -E -ia \"^at[2]\" Root-associated-Loci.txt\n",
    "grep -E -ia \"^at[3]\" Root-associated-Loci.txt\n",
    "grep -E -ia \"^at[4]\" Root-associated-Loci.txt\n",
    "grep -E -ia \"^at[5]\" Root-associated-Loci.txt"
   ]
  }
 ],
 "metadata": {
  "kernelspec": {
   "display_name": "Bash",
   "language": "bash",
   "name": "bash"
  },
  "language_info": {
   "codemirror_mode": "shell",
   "file_extension": ".sh",
   "mimetype": "text/x-sh",
   "name": "bash"
  }
 },
 "nbformat": 4,
 "nbformat_minor": 2
}
